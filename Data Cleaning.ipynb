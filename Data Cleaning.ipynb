{
 "cells": [
  {
   "cell_type": "code",
   "execution_count": 1,
   "metadata": {
    "collapsed": true
   },
   "outputs": [],
   "source": [
    "# Import Pandas\n",
    "import pandas as pd"
   ]
  },
  {
   "cell_type": "code",
   "execution_count": 2,
   "metadata": {
    "collapsed": false
   },
   "outputs": [
    {
     "data": {
      "text/html": [
       "<div>\n",
       "<table border=\"1\" class=\"dataframe\">\n",
       "  <thead>\n",
       "    <tr style=\"text-align: right;\">\n",
       "      <th></th>\n",
       "      <th>PassengerId</th>\n",
       "      <th>Status</th>\n",
       "      <th>Pclass</th>\n",
       "      <th>Sex</th>\n",
       "      <th>Age</th>\n",
       "      <th>Count</th>\n",
       "      <th>PclassSex</th>\n",
       "      <th>Survived</th>\n",
       "    </tr>\n",
       "  </thead>\n",
       "  <tbody>\n",
       "    <tr>\n",
       "      <th>0</th>\n",
       "      <td>1</td>\n",
       "      <td>Dead</td>\n",
       "      <td>Pclass 3</td>\n",
       "      <td>male</td>\n",
       "      <td>22.0</td>\n",
       "      <td>1</td>\n",
       "      <td>Pclass 3 male</td>\n",
       "      <td>0</td>\n",
       "    </tr>\n",
       "    <tr>\n",
       "      <th>1</th>\n",
       "      <td>2</td>\n",
       "      <td>Survived</td>\n",
       "      <td>Pclass 1</td>\n",
       "      <td>female</td>\n",
       "      <td>38.0</td>\n",
       "      <td>1</td>\n",
       "      <td>Pclass 1 female</td>\n",
       "      <td>1</td>\n",
       "    </tr>\n",
       "    <tr>\n",
       "      <th>2</th>\n",
       "      <td>3</td>\n",
       "      <td>Survived</td>\n",
       "      <td>Pclass 3</td>\n",
       "      <td>female</td>\n",
       "      <td>26.0</td>\n",
       "      <td>1</td>\n",
       "      <td>Pclass 3 female</td>\n",
       "      <td>1</td>\n",
       "    </tr>\n",
       "    <tr>\n",
       "      <th>3</th>\n",
       "      <td>4</td>\n",
       "      <td>Survived</td>\n",
       "      <td>Pclass 1</td>\n",
       "      <td>female</td>\n",
       "      <td>35.0</td>\n",
       "      <td>1</td>\n",
       "      <td>Pclass 1 female</td>\n",
       "      <td>1</td>\n",
       "    </tr>\n",
       "    <tr>\n",
       "      <th>4</th>\n",
       "      <td>5</td>\n",
       "      <td>Dead</td>\n",
       "      <td>Pclass 3</td>\n",
       "      <td>male</td>\n",
       "      <td>35.0</td>\n",
       "      <td>1</td>\n",
       "      <td>Pclass 3 male</td>\n",
       "      <td>0</td>\n",
       "    </tr>\n",
       "  </tbody>\n",
       "</table>\n",
       "</div>"
      ],
      "text/plain": [
       "   PassengerId    Status    Pclass     Sex   Age  Count        PclassSex  \\\n",
       "0            1      Dead  Pclass 3    male  22.0      1    Pclass 3 male   \n",
       "1            2  Survived  Pclass 1  female  38.0      1  Pclass 1 female   \n",
       "2            3  Survived  Pclass 3  female  26.0      1  Pclass 3 female   \n",
       "3            4  Survived  Pclass 1  female  35.0      1  Pclass 1 female   \n",
       "4            5      Dead  Pclass 3    male  35.0      1    Pclass 3 male   \n",
       "\n",
       "   Survived  \n",
       "0         0  \n",
       "1         1  \n",
       "2         1  \n",
       "3         1  \n",
       "4         0  "
      ]
     },
     "execution_count": 2,
     "metadata": {},
     "output_type": "execute_result"
    }
   ],
   "source": [
    "# Read Clean.csv\n",
    "data = pd.read_csv('clean.csv')\n",
    "# Display First 5 Columns of the Data\n",
    "data.head()"
   ]
  },
  {
   "cell_type": "code",
   "execution_count": 3,
   "metadata": {
    "collapsed": false
   },
   "outputs": [
    {
     "data": {
      "text/plain": [
       "Pclass\n",
       "Pclass 1    186\n",
       "Pclass 2    173\n",
       "Pclass 3    355\n",
       "Name: Count, dtype: int64"
      ]
     },
     "execution_count": 3,
     "metadata": {},
     "output_type": "execute_result"
    }
   ],
   "source": [
    "# Grouping Pclass and Count so that we get the count of PAssengers in each Passenger Class\n",
    "x  = data.groupby('Pclass')['Count'].sum()\n",
    "# Output x\n",
    "x"
   ]
  },
  {
   "cell_type": "code",
   "execution_count": 4,
   "metadata": {
    "collapsed": false
   },
   "outputs": [
    {
     "data": {
      "text/html": [
       "<div>\n",
       "<table border=\"1\" class=\"dataframe\">\n",
       "  <thead>\n",
       "    <tr style=\"text-align: right;\">\n",
       "      <th>Status</th>\n",
       "      <th>Dead</th>\n",
       "      <th>Survived</th>\n",
       "      <th>SurvivedPct</th>\n",
       "    </tr>\n",
       "    <tr>\n",
       "      <th>PclassSex</th>\n",
       "      <th></th>\n",
       "      <th></th>\n",
       "      <th></th>\n",
       "    </tr>\n",
       "  </thead>\n",
       "  <tbody>\n",
       "    <tr>\n",
       "      <th>Pclass 1 female</th>\n",
       "      <td>3</td>\n",
       "      <td>82</td>\n",
       "      <td>96.470588</td>\n",
       "    </tr>\n",
       "    <tr>\n",
       "      <th>Pclass 1 male</th>\n",
       "      <td>61</td>\n",
       "      <td>40</td>\n",
       "      <td>39.603960</td>\n",
       "    </tr>\n",
       "    <tr>\n",
       "      <th>Pclass 2 female</th>\n",
       "      <td>6</td>\n",
       "      <td>68</td>\n",
       "      <td>91.891892</td>\n",
       "    </tr>\n",
       "    <tr>\n",
       "      <th>Pclass 2 male</th>\n",
       "      <td>84</td>\n",
       "      <td>15</td>\n",
       "      <td>15.151515</td>\n",
       "    </tr>\n",
       "    <tr>\n",
       "      <th>Pclass 3 female</th>\n",
       "      <td>55</td>\n",
       "      <td>47</td>\n",
       "      <td>46.078431</td>\n",
       "    </tr>\n",
       "    <tr>\n",
       "      <th>Pclass 3 male</th>\n",
       "      <td>215</td>\n",
       "      <td>38</td>\n",
       "      <td>15.019763</td>\n",
       "    </tr>\n",
       "  </tbody>\n",
       "</table>\n",
       "</div>"
      ],
      "text/plain": [
       "Status           Dead  Survived  SurvivedPct\n",
       "PclassSex                                   \n",
       "Pclass 1 female     3        82    96.470588\n",
       "Pclass 1 male      61        40    39.603960\n",
       "Pclass 2 female     6        68    91.891892\n",
       "Pclass 2 male      84        15    15.151515\n",
       "Pclass 3 female    55        47    46.078431\n",
       "Pclass 3 male     215        38    15.019763"
      ]
     },
     "execution_count": 4,
     "metadata": {},
     "output_type": "execute_result"
    }
   ],
   "source": [
    "# Grouping Data by PclassSex, Status and Count So that we get the count of Passengers in Each Passenger Class grouped by their Sex \n",
    "y = data.groupby(['PclassSex','Status'])['Count'].sum().unstack(level=1)\n",
    "# Creating a New varible SurvivedPct \n",
    "y['SurvivedPct'] = y['Survived'] /( y['Survived'] + y['Dead']) *100\n",
    "# output y\n",
    "y"
   ]
  },
  {
   "cell_type": "code",
   "execution_count": 5,
   "metadata": {
    "collapsed": true
   },
   "outputs": [],
   "source": [
    "# Write Data to a new file\n",
    "y.to_csv('clean_Final.csv')"
   ]
  }
 ],
 "metadata": {
  "anaconda-cloud": {},
  "kernelspec": {
   "display_name": "Python [conda root]",
   "language": "python",
   "name": "conda-root-py"
  },
  "language_info": {
   "codemirror_mode": {
    "name": "ipython",
    "version": 2
   },
   "file_extension": ".py",
   "mimetype": "text/x-python",
   "name": "python",
   "nbconvert_exporter": "python",
   "pygments_lexer": "ipython2",
   "version": "2.7.12"
  }
 },
 "nbformat": 4,
 "nbformat_minor": 1
}
